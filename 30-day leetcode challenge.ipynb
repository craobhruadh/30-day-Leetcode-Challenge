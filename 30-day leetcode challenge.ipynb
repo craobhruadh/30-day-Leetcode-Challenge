{
 "cells": [
  {
   "cell_type": "markdown",
   "metadata": {},
   "source": [
    "# Day 5: April 5, 2020\n",
    "\n",
    "Best Time to Buy and Sell Stock II\n",
    "\n",
    "Say you have an array for which the ith element is the price of a given stock on day i.\n",
    "\n",
    "Design an algorithm to find the maximum profit. You may complete as many transactions as you like (i.e., buy one and sell one share of the stock multiple times).\n",
    "\n",
    "Note: You may not engage in multiple transactions at the same time (i.e., you must sell the stock before you buy again).\n",
    "\n",
    "\n"
   ]
  },
  {
   "cell_type": "markdown",
   "metadata": {},
   "source": [
    "### First Pass\n",
    "\n",
    "This was brute force, and failed speed tests because it doesn't recognize an insight, that this version is actually easier to solve when the number of transactions is unlimited"
   ]
  },
  {
   "cell_type": "code",
   "execution_count": 7,
   "metadata": {},
   "outputs": [],
   "source": [
    "class Solution(object):\n",
    "    def maxProfit(self, prices):\n",
    "        \"\"\"\n",
    "        :type prices: List[int]\n",
    "        :rtype: int\n",
    "        \"\"\"\n",
    "        \n",
    "        # Thought: Find every buy-sell combination, stash them\n",
    "        # Then find every combination of buy/sell that doesn't overlap\n",
    "        \n",
    "        positive_transactions = [] #list of tuples?\n",
    "        num_elems = len(prices)\n",
    "        for i in range(num_elems-1):\n",
    "            for j in range(i,num_elems):\n",
    "                profit = prices[j] - prices[i]\n",
    "                if profit>0:\n",
    "                    positive_transactions.append((i,j,profit))\n",
    "        return self.maxProfitHelper(positive_transactions)\n",
    "    \n",
    "    \n",
    "        \n",
    "    def maxProfitHelper(self, positive_transactions):\n",
    "        \"\"\"Recursively loops through all combinations of transactions, \n",
    "        returns one with the max profit\"\"\"\n",
    "        \n",
    "        if not positive_transactions:  #PEP-8 style for check if empty\n",
    "            return 0\n",
    "        \n",
    "        max_profit = 0\n",
    "        for transaction in positive_transactions:\n",
    "            profit = transaction[2] + self.maxProfitHelper(self.FindNonIntersections(transaction, positive_transactions))\n",
    "            if profit > max_profit:\n",
    "                max_profit = profit\n",
    "                \n",
    "        return max_profit\n",
    "        \n",
    "    def FindNonIntersections(self, transaction, positive_transactions):\n",
    "        \"\"\"Find all non-overlapping transactions\"\"\"\n",
    "        return [x for x in positive_transactions if transaction[1] < x[0]]\n",
    "    \n",
    "    \n",
    "        "
   ]
  },
  {
   "cell_type": "markdown",
   "metadata": {},
   "source": [
    "### Second Pass\n",
    "\n",
    "Note that the algorithm doesn't care about what the transactions are, just what the total max profits are"
   ]
  },
  {
   "cell_type": "code",
   "execution_count": 6,
   "metadata": {},
   "outputs": [],
   "source": [
    "class Solution(object):\n",
    "    def maxProfit(self, prices):\n",
    "        \"\"\"\n",
    "        :type prices: List[int]\n",
    "        :rtype: int\n",
    "        \"\"\"\n",
    "        # Attempt #2\n",
    "        # realization that you can buy and sell infinitely many times and \n",
    "        # it will be effectively the same.  Just sum consecutive values!\n",
    "        # \n",
    "        num_elems = len(prices)\n",
    "        max_profit = 0\n",
    "        for i in range(num_elems-1):\n",
    "            profit = prices[i+1] - prices[i]\n",
    "            if profit >0:\n",
    "                max_profit += profit\n",
    "                \n",
    "        return max_profit"
   ]
  },
  {
   "cell_type": "markdown",
   "metadata": {},
   "source": [
    "### Addendum: \n",
    "\n",
    "Here's a solution to the more standard leetcode problem where you can only buy and sell once\n",
    "https://leetcode.com/problems/best-time-to-buy-and-sell-stock/submissions/"
   ]
  },
  {
   "cell_type": "code",
   "execution_count": null,
   "metadata": {},
   "outputs": [],
   "source": [
    "class Solution(object):\n",
    "    def maxProfit(self, prices):\n",
    "        \"\"\"\n",
    "        :type prices: List[int]\n",
    "        :rtype: int\n",
    "        \"\"\"\n",
    "#         max_profit = 0 \n",
    "#         for i in range(len(prices)-1):\n",
    "#             for j in range(i+1, len(prices)):\n",
    "#                 temp = prices[j] - prices[i]\n",
    "#                 if temp > max_profit:\n",
    "#                     max_profit = temp\n",
    "#         return max_profit\n",
    "        \n",
    "        \n",
    "        min_price = prices[0]\n",
    "        max_profit = 0\n",
    "        for i in range(len(prices)):\n",
    "            if prices[i] < min_price:\n",
    "                min_price = prices[i]\n",
    "            else:\n",
    "                profit = prices[i]- min_price\n",
    "                if (profit )> max_profit:\n",
    "                    max_profit = profit\n",
    "        return max_profit"
   ]
  },
  {
   "cell_type": "markdown",
   "metadata": {},
   "source": [
    "# Day 6: April 6, 2020\n",
    "\n",
    "Group Anagrams\n",
    "Given an array of strings, group anagrams together.\n",
    "\n",
    "Example:\n",
    "\n",
    "\n",
    "    Input: [\"eat\", \"tea\", \"tan\", \"ate\", \"nat\", \"bat\"],\n",
    "    Output:\n",
    "    [\n",
    "      [\"ate\",\"eat\",\"tea\"],\n",
    "      [\"nat\",\"tan\"],\n",
    "      [\"bat\"]\n",
    "    ] \n",
    "\n",
    "\n",
    "Note:\n",
    "\n",
    "All inputs will be in lowercase.\n",
    "The order of your output does not matter.\n"
   ]
  },
  {
   "cell_type": "markdown",
   "metadata": {},
   "source": [
    "### Attempt 1\n",
    "\n",
    "Can be long and slow and fails some test cases"
   ]
  },
  {
   "cell_type": "code",
   "execution_count": null,
   "metadata": {},
   "outputs": [],
   "source": [
    "class Solution(object):\n",
    "    def groupAnagrams(self, strs):\n",
    "        \"\"\"\n",
    "        :type strs: List[str]\n",
    "        :rtype: List[List[str]]\n",
    "        \"\"\"\n",
    "        anagrams = []\n",
    "        while strs:\n",
    "            group = []\n",
    "            first = strs.pop(0)\n",
    "            group.append(first)\n",
    "            for i, word in enumerate(strs):\n",
    "                if self.is_anagram(first, word):\n",
    "                    group.append(strs.pop(i))\n",
    "            anagrams.append(group)\n",
    "            \n",
    "        return anagrams\n",
    "        \n",
    "    def is_anagram(self, a, b):\n",
    "        a_dict = self.get_charcount(a)\n",
    "        b_dict = self.get_charcount(b)\n",
    "        if not a and not b:\n",
    "            return True\n",
    "        \n",
    "        if set(a_dict.keys()).symmetric_difference(set(b_dict.keys())):\n",
    "            return False  #By definition fails anagram\n",
    "        else:\n",
    "            for key in a_dict.keys():\n",
    "                if a_dict[key] != b_dict[key]:\n",
    "                    return False\n",
    "        return True\n",
    "    \n",
    "        \n",
    "    def get_charcount(self,x):\n",
    "        char_count = {}\n",
    "        for i in x:\n",
    "            if i in char_count.keys():\n",
    "                char_count[i] +=1\n",
    "            else: \n",
    "                char_count[i] =1\n",
    "            #char_count[i] += char_count.get(i,0)\n",
    "        return char_count"
   ]
  },
  {
   "cell_type": "markdown",
   "metadata": {},
   "source": [
    "### Attempt 2\n",
    "\n",
    "Faster and uses default dict for simpler python syntax"
   ]
  },
  {
   "cell_type": "code",
   "execution_count": null,
   "metadata": {},
   "outputs": [],
   "source": [
    "\n",
    "class Solution(object):\n",
    "    def groupAnagrams(self, strs):\n",
    "        \"\"\"\n",
    "        :type strs: List[str]\n",
    "        :rtype: List[List[str]]\n",
    "        \"\"\"\n",
    "        word_cats = defaultdict(list)\n",
    "        for word in strs:\n",
    "            #Use an alphabetical word as the common key\n",
    "            key = \"\".join(sorted(word))\n",
    "            word_cats[key].append(word)\n",
    "        return [word_cats[x] for x in word_cats.keys()]\n",
    "            \n"
   ]
  },
  {
   "cell_type": "code",
   "execution_count": null,
   "metadata": {},
   "outputs": [],
   "source": []
  }
 ],
 "metadata": {
  "kernelspec": {
   "display_name": "Python 3",
   "language": "python",
   "name": "python3"
  },
  "language_info": {
   "codemirror_mode": {
    "name": "ipython",
    "version": 3
   },
   "file_extension": ".py",
   "mimetype": "text/x-python",
   "name": "python",
   "nbconvert_exporter": "python",
   "pygments_lexer": "ipython3",
   "version": "3.6.8"
  }
 },
 "nbformat": 4,
 "nbformat_minor": 4
}
