{
 "cells": [
  {
   "cell_type": "markdown",
   "metadata": {},
   "source": [
    "# Day 5: April 5, 2020\n",
    "\n",
    "Best Time to Buy and Sell Stock II\n"
   ]
  },
  {
   "cell_type": "code",
   "execution_count": 7,
   "metadata": {},
   "outputs": [],
   "source": [
    "class Solution(object):\n",
    "    def maxProfit(self, prices):\n",
    "        \"\"\"\n",
    "        :type prices: List[int]\n",
    "        :rtype: int\n",
    "        \"\"\"\n",
    "        \n",
    "        # Thought: Find every buy-sell combination, stash them\n",
    "        # Then find every combination of buy/sell that doesn't overlap\n",
    "        \n",
    "        positive_transactions = [] #list of tuples?\n",
    "        num_elems = len(prices)\n",
    "        for i in range(num_elems-1):\n",
    "            for j in range(i,num_elems):\n",
    "                profit = prices[j] - prices[i]\n",
    "                if profit>0:\n",
    "                    positive_transactions.append((i,j,profit))\n",
    "        return self.maxProfitHelper(positive_transactions)\n",
    "    \n",
    "    \n",
    "        \n",
    "    def maxProfitHelper(self, positive_transactions):\n",
    "        \"\"\"Recursively loops through all combinations of transactions, \n",
    "        returns one with the max profit\"\"\"\n",
    "        \n",
    "        if not positive_transactions:  #PEP-8 style for check if empty\n",
    "            return 0\n",
    "        \n",
    "        max_profit = 0\n",
    "        for transaction in positive_transactions:\n",
    "            profit = transaction[2] + self.maxProfitHelper(self.FindNonIntersections(transaction, positive_transactions))\n",
    "            if profit > max_profit:\n",
    "                max_profit = profit\n",
    "                \n",
    "        return max_profit\n",
    "        \n",
    "    def FindNonIntersections(self, transaction, positive_transactions):\n",
    "        \"\"\"Find all non-overlapping transactions\"\"\"\n",
    "        return [x for x in positive_transactions if transaction[1] < x[0]]\n",
    "    \n",
    "    \n",
    "        "
   ]
  },
  {
   "cell_type": "code",
   "execution_count": 6,
   "metadata": {},
   "outputs": [],
   "source": [
    "class Solution(object):\n",
    "    def maxProfit(self, prices):\n",
    "        \"\"\"\n",
    "        :type prices: List[int]\n",
    "        :rtype: int\n",
    "        \"\"\"\n",
    "        # Attempt #2\n",
    "        # realization that you can buy and sell infinitely many times and \n",
    "        # it will be effectively the same.  Just sum consecutive values!\n",
    "        # \n",
    "        num_elems = len(prices)\n",
    "        max_profit = 0\n",
    "        for i in range(num_elems-1):\n",
    "            profit = prices[i+1] - prices[i]\n",
    "            if profit >0:\n",
    "                max_profit += profit\n",
    "                \n",
    "        return max_profit"
   ]
  },
  {
   "cell_type": "markdown",
   "metadata": {},
   "source": [
    "### Addendum: \n",
    "\n",
    "Here's a solution to the more standard leetcode problem where you can only buy and sell once\n",
    "https://leetcode.com/problems/best-time-to-buy-and-sell-stock/submissions/"
   ]
  },
  {
   "cell_type": "code",
   "execution_count": null,
   "metadata": {},
   "outputs": [],
   "source": [
    "class Solution(object):\n",
    "    def maxProfit(self, prices):\n",
    "        \"\"\"\n",
    "        :type prices: List[int]\n",
    "        :rtype: int\n",
    "        \"\"\"\n",
    "#         max_profit = 0 \n",
    "#         for i in range(len(prices)-1):\n",
    "#             for j in range(i+1, len(prices)):\n",
    "#                 temp = prices[j] - prices[i]\n",
    "#                 if temp > max_profit:\n",
    "#                     max_profit = temp\n",
    "#         return max_profit\n",
    "        \n",
    "        \n",
    "        min_price = prices[0]\n",
    "        max_profit = 0\n",
    "        for i in range(len(prices)):\n",
    "            if prices[i] < min_price:\n",
    "                min_price = prices[i]\n",
    "            else:\n",
    "                profit = prices[i]- min_price\n",
    "                if (profit )> max_profit:\n",
    "                    max_profit = profit\n",
    "        return max_profit"
   ]
  },
  {
   "cell_type": "code",
   "execution_count": null,
   "metadata": {},
   "outputs": [],
   "source": []
  }
 ],
 "metadata": {
  "kernelspec": {
   "display_name": "Python 3",
   "language": "python",
   "name": "python3"
  },
  "language_info": {
   "codemirror_mode": {
    "name": "ipython",
    "version": 3
   },
   "file_extension": ".py",
   "mimetype": "text/x-python",
   "name": "python",
   "nbconvert_exporter": "python",
   "pygments_lexer": "ipython3",
   "version": "3.6.8"
  }
 },
 "nbformat": 4,
 "nbformat_minor": 4
}
