{
 "cells": [
  {
   "cell_type": "markdown",
   "metadata": {},
   "source": [
    "# May 31 day leetcode challenge\n",
    "\n",
    "Link to the May 2020 monthly leetcode challenge: https://leetcode.com/discuss/general-discussion/595334/May-LeetCoding-Challenge\n"
   ]
  },
  {
   "cell_type": "markdown",
   "metadata": {},
   "source": [
    "# Day 1: First Bad Version\n",
    "\n",
    "You are a product manager and currently leading a team to develop a new product. Unfortunately, the latest version of your product fails the quality check. Since each version is developed based on the previous version, all the versions after a bad version are also bad.\n",
    "\n",
    "Suppose you have n versions [1, 2, ..., n] and you want to find out the first bad one, which causes all the following ones to be bad.\n",
    "\n",
    "You are given an API bool isBadVersion(version) which will return whether version is bad. Implement a function to find the first bad version. You should minimize the number of calls to the API.\n",
    "\n",
    "Example:\n",
    "\n",
    "    Given n = 5, and version = 4 is the first bad version.\n",
    "    \n",
    "    call isBadVersion(3) -> false\n",
    "    call isBadVersion(5) -> true\n",
    "    call isBadVersion(4) -> true\n",
    "    \n",
    "    Then 4 is the first bad version. \n"
   ]
  },
  {
   "cell_type": "code",
   "execution_count": null,
   "metadata": {},
   "outputs": [],
   "source": [
    "# The isBadVersion API is already defined for you.\n",
    "# @param version, an integer\n",
    "# @return a bool\n",
    "# def isBadVersion(version):\n",
    "\n",
    "class Solution:\n",
    "    def firstBadVersion(self, n):\n",
    "        \"\"\"\n",
    "        :type n: int\n",
    "        :rtype: int\n",
    "        \"\"\"\n",
    "        lhs = 1\n",
    "        rhs = n\n",
    "        first_bad = n\n",
    "        mid = (lhs+rhs)//2\n",
    "        while lhs < rhs:            \n",
    "            if isBadVersion(mid):\n",
    "                rhs = mid\n",
    "                first_bad = min(mid, first_bad)\n",
    "            else: \n",
    "                lhs = mid\n",
    "                \n",
    "            new_mid = (lhs+rhs)//2\n",
    "            if new_mid == mid:\n",
    "                break\n",
    "            else:\n",
    "                mid = new_mid\n",
    "\n",
    "                \n",
    "                \n",
    "        return first_bad\n",
    "        "
   ]
  }
 ],
 "metadata": {
  "kernelspec": {
   "display_name": "Python 3",
   "language": "python",
   "name": "python3"
  },
  "language_info": {
   "codemirror_mode": {
    "name": "ipython",
    "version": 3
   },
   "file_extension": ".py",
   "mimetype": "text/x-python",
   "name": "python",
   "nbconvert_exporter": "python",
   "pygments_lexer": "ipython3",
   "version": "3.6.8"
  }
 },
 "nbformat": 4,
 "nbformat_minor": 4
}
