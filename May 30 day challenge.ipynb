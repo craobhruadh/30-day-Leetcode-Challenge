{
 "cells": [
  {
   "cell_type": "markdown",
   "metadata": {},
   "source": [
    "# May 31 day leetcode challenge\n",
    "\n",
    "Link to the May 2020 monthly leetcode challenge: https://leetcode.com/discuss/general-discussion/595334/May-LeetCoding-Challenge\n"
   ]
  },
  {
   "cell_type": "markdown",
   "metadata": {},
   "source": [
    "# Day 1: First Bad Version\n",
    "\n",
    "You are a product manager and currently leading a team to develop a new product. Unfortunately, the latest version of your product fails the quality check. Since each version is developed based on the previous version, all the versions after a bad version are also bad.\n",
    "\n",
    "Suppose you have n versions [1, 2, ..., n] and you want to find out the first bad one, which causes all the following ones to be bad.\n",
    "\n",
    "You are given an API bool isBadVersion(version) which will return whether version is bad. Implement a function to find the first bad version. You should minimize the number of calls to the API.\n",
    "\n",
    "Example:\n",
    "\n",
    "    Given n = 5, and version = 4 is the first bad version.\n",
    "    \n",
    "    call isBadVersion(3) -> false\n",
    "    call isBadVersion(5) -> true\n",
    "    call isBadVersion(4) -> true\n",
    "    \n",
    "    Then 4 is the first bad version. \n"
   ]
  },
  {
   "cell_type": "code",
   "execution_count": null,
   "metadata": {},
   "outputs": [],
   "source": [
    "# The isBadVersion API is already defined for you.\n",
    "# @param version, an integer\n",
    "# @return a bool\n",
    "# def isBadVersion(version):\n",
    "\n",
    "class Solution:\n",
    "    def firstBadVersion(self, n):\n",
    "        \"\"\"\n",
    "        :type n: int\n",
    "        :rtype: int\n",
    "        \"\"\"\n",
    "        lhs = 1\n",
    "        rhs = n\n",
    "        first_bad = n\n",
    "        mid = (lhs+rhs)//2\n",
    "        while lhs < rhs:            \n",
    "            if isBadVersion(mid):\n",
    "                rhs = mid\n",
    "                first_bad = min(mid, first_bad)\n",
    "            else: \n",
    "                lhs = mid\n",
    "                \n",
    "            new_mid = (lhs+rhs)//2\n",
    "            if new_mid == mid:\n",
    "                break\n",
    "            else:\n",
    "                mid = new_mid\n",
    "\n",
    "                \n",
    "                \n",
    "        return first_bad\n",
    "        "
   ]
  },
  {
   "cell_type": "markdown",
   "metadata": {},
   "source": [
    "# Day 2: Jewels and Stones\n",
    "\n",
    "You're given strings J representing the types of stones that are jewels, and S representing the stones you have.  Each character in S is a type of stone you have.  You want to know how many of the stones you have are also jewels.\n",
    "\n",
    "The letters in J are guaranteed distinct, and all characters in J and S are letters. Letters are case sensitive, so \"a\" is considered a different type of stone from \"A\".\n",
    "\n",
    "Example 1:\n",
    "\n",
    "    Input: J = \"aA\", S = \"aAAbbbb\"\n",
    "    Output: 3\n",
    "\n",
    "Example 2:\n",
    "\n",
    "    Input: J = \"z\", S = \"ZZ\"\n",
    "    Output: 0\n",
    "\n",
    "Note:\n",
    "- S and J will consist of letters and have length at most 50.\n",
    "- The characters in J are distinct.\n"
   ]
  },
  {
   "cell_type": "code",
   "execution_count": null,
   "metadata": {},
   "outputs": [],
   "source": [
    "class Solution:\n",
    "    def numJewelsInStones(self, J: str, S: str) -> int:\n",
    "        jewels = set(J)\n",
    "        num_jewels = 0\n",
    "        for stone in S:\n",
    "            if stone in jewels:\n",
    "                num_jewels+=1\n",
    "                \n",
    "        return num_jewels"
   ]
  },
  {
   "cell_type": "markdown",
   "metadata": {},
   "source": [
    "# Day 3: Ransom Note\n",
    "\n",
    "Given an arbitrary ransom note string and another string containing letters from all the magazines, write a function that will return true if the ransom note can be constructed from the magazines ; otherwise, it will return false.\n",
    "\n",
    "Each letter in the magazine string can only be used once in your ransom note.\n",
    "\n",
    "Note: You may assume that both strings contain only lowercase letters.\n",
    "\n",
    "    canConstruct(\"a\", \"b\") -> false\n",
    "    canConstruct(\"aa\", \"ab\") -> false\n",
    "    canConstruct(\"aa\", \"aab\") -> true\n"
   ]
  },
  {
   "cell_type": "code",
   "execution_count": null,
   "metadata": {},
   "outputs": [],
   "source": [
    "class Solution:\n",
    "    def canConstruct(self, ransomNote: str, magazine: str) -> bool:\n",
    "        words = Counter(magazine)\n",
    "        for i in ransomNote:\n",
    "            words[i] -= 1\n",
    "            if words[i] < 0:\n",
    "                return False\n",
    "        return True"
   ]
  },
  {
   "cell_type": "markdown",
   "metadata": {},
   "source": [
    "# Day 4: Number Complement\n",
    "\n",
    "\n",
    "Given a positive integer, output its complement number. The complement strategy is to flip the bits of its binary representation.\n",
    "\n",
    " \n",
    "\n",
    "Example 1:\n",
    "\n",
    "    Input: 5\n",
    "    Output: 2\n",
    "    Explanation: The binary representation of 5 is 101 (no leading zero bits), and its complement is 010. So you need to output 2.\n",
    " \n",
    "\n",
    "Example 2:\n",
    "\n",
    "    Input: 1\n",
    "    Output: 0\n",
    "    Explanation: The binary representation of 1 is 1 (no leading zero bits), and its complement is 0. So you need to output 0.\n",
    " \n",
    "\n",
    "Note:\n",
    "- The given integer is guaranteed to fit within the range of a 32-bit signed integer.\n",
    "- You could assume no leading zero bit in the integer’s binary representation.\n",
    "- This question is the same as 1009: https://leetcode.com/problems/complement-of-base-10-integer/\n"
   ]
  },
  {
   "cell_type": "code",
   "execution_count": null,
   "metadata": {},
   "outputs": [],
   "source": [
    "class Solution:\n",
    "    def findComplement(self, num: int) -> int:\n",
    "        x = 1\n",
    "        while x < num:\n",
    "            x = x*2+1\n",
    "        return num ^ x"
   ]
  },
  {
   "cell_type": "markdown",
   "metadata": {},
   "source": [
    "# Day 5: First Unique Character in a String\n",
    "\n",
    "Given a string, find the first non-repeating character in it and return it's index. If it doesn't exist, return -1.\n",
    "\n",
    "Examples:\n",
    "\n",
    "    s = \"leetcode\"\n",
    "    return 0.\n",
    "\n",
    "    s = \"loveleetcode\",\n",
    "    return 2.\n",
    "\n",
    "\n",
    "Note: You may assume the string contain only lowercase letters.\n",
    "\n"
   ]
  },
  {
   "cell_type": "code",
   "execution_count": null,
   "metadata": {},
   "outputs": [],
   "source": [
    "class Solution:\n",
    "    def firstUniqChar(self, s: str) -> int:\n",
    "        d = OrderedDict()\n",
    "        count = 0        \n",
    "        for i, value in enumerate(s):\n",
    "            if value in d.keys():\n",
    "                d[value] = -1\n",
    "            else: \n",
    "                d[value] = i\n",
    "            \n",
    "        for i in d.keys():\n",
    "            if d[i] != -1:\n",
    "                return d[i]\n",
    "        return -1"
   ]
  },
  {
   "cell_type": "markdown",
   "metadata": {},
   "source": [
    "# Day 6: Majority Element\n",
    "\n",
    "Given an array of size n, find the majority element. The majority element is the element that appears more than ⌊ n/2 ⌋ times.\n",
    "\n",
    "You may assume that the array is non-empty and the majority element always exist in the array.\n",
    "\n",
    "Example 1:\n",
    "\n",
    "    Input: [3,2,3]\n",
    "    Output: 3\n",
    "\n",
    "Example 2:\n",
    "\n",
    "    Input: [2,2,1,1,1,2,2]\n",
    "    Output: 2\n"
   ]
  },
  {
   "cell_type": "code",
   "execution_count": null,
   "metadata": {},
   "outputs": [],
   "source": []
  }
 ],
 "metadata": {
  "kernelspec": {
   "display_name": "Python 3",
   "language": "python",
   "name": "python3"
  },
  "language_info": {
   "codemirror_mode": {
    "name": "ipython",
    "version": 3
   },
   "file_extension": ".py",
   "mimetype": "text/x-python",
   "name": "python",
   "nbconvert_exporter": "python",
   "pygments_lexer": "ipython3",
   "version": "3.6.8"
  }
 },
 "nbformat": 4,
 "nbformat_minor": 4
}
