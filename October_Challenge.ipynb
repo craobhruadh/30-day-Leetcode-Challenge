{
 "cells": [
  {
   "cell_type": "markdown",
   "metadata": {},
   "source": [
    "# Day 20: Clone Graph\n",
    "\n",
    "https://leetcode.com/problems/clone-graph/\n",
    "    \n",
    "Given a reference of a node in a connected undirected graph.\n",
    "\n",
    "Return a deep copy (clone) of the graph.\n",
    "\n",
    "Each node in the graph contains a val (int) and a list (List[Node]) of its neighbors.\n",
    "\n",
    "    class Node {\n",
    "        public int val;\n",
    "        public List<Node> neighbors;\n",
    "    }\n",
    " \n",
    "\n",
    "Test case format:\n",
    "\n",
    "For simplicity sake, each node's value is the same as the node's index (1-indexed). For example, the first node with val = 1, the second node with val = 2, and so on. The graph is represented in the test case using an adjacency list.\n",
    "\n",
    "Adjacency list is a collection of unordered lists used to represent a finite graph. Each list describes the set of neighbors of a node in the graph.\n",
    "\n",
    "The given node will always be the first node with val = 1. You must return the copy of the given node as a reference to the cloned graph.\n",
    "\n"
   ]
  },
  {
   "cell_type": "code",
   "execution_count": null,
   "metadata": {},
   "outputs": [],
   "source": [
    "\"\"\"\n",
    "# Definition for a Node.\n",
    "class Node:\n",
    "    def __init__(self, val = 0, neighbors = None):\n",
    "        self.val = val\n",
    "        self.neighbors = neighbors if neighbors is not None else []\n",
    "\"\"\"\n",
    "\n",
    "class Solution:\n",
    "    def cloneGraph(self, node: 'Node') -> 'Node':\n",
    "        if not node:\n",
    "            return \n",
    "        \n",
    "        adjacency = defaultdict(list)\n",
    "        visited = set()\n",
    "        def build_adjacency(node):\n",
    "            if node.val in visited:\n",
    "                return\n",
    "            for neighbor in node.neighbors:\n",
    "                adjacency[node.val].append(neighbor.val)\n",
    "            visited.add(node.val)\n",
    "            for neighbor in node.neighbors:\n",
    "                build_adjacency(neighbor)\n",
    "        build_adjacency(node)\n",
    "        \n",
    "        visited = set()\n",
    "        d_nodes = {}\n",
    "        def build_graph(val):\n",
    "            \n",
    "            this = Node(val)\n",
    "            visited.add(val)\n",
    "            d_nodes[val] = this\n",
    "            for neighbor in adjacency[val]:\n",
    "                if neighbor in visited:\n",
    "                    this.neighbors.append(d_nodes[neighbor])\n",
    "                else:\n",
    "                    this.neighbors.append(build_graph(neighbor))\n",
    "            return this\n",
    "            \n",
    "            \n",
    "        return build_graph(node.val)\n"
   ]
  }
 ],
 "metadata": {
  "kernelspec": {
   "display_name": "Python 3",
   "language": "python",
   "name": "python3"
  },
  "language_info": {
   "codemirror_mode": {
    "name": "ipython",
    "version": 3
   },
   "file_extension": ".py",
   "mimetype": "text/x-python",
   "name": "python",
   "nbconvert_exporter": "python",
   "pygments_lexer": "ipython3",
   "version": "3.6.6"
  }
 },
 "nbformat": 4,
 "nbformat_minor": 4
}
